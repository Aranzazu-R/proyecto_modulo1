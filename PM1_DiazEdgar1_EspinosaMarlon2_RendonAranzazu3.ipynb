{
 "cells": [
  {
   "cell_type": "markdown",
   "metadata": {},
   "source": [
    " # PROGRAMACION LINEAL"
   ]
  },
  {
   "cell_type": "markdown",
   "metadata": {},
   "source": [
    "Este es el primer proyecto de la clase de simulación matemática, el cuál se tratará sobre la programación lineal vista en clase."
   ]
  },
  {
   "cell_type": "markdown",
   "metadata": {},
   "source": [
    "## Objetivos"
   ]
  },
  {
   "cell_type": "markdown",
   "metadata": {},
   "source": [
    "### General\n",
    ">- El motivo por el cual se hace el trabajo es para perfeccionar los conocimientos adquiridos, y saber que existen aplicaciones de lo que se hace en clase, ya que son problemas de la vida real.\n",
    "\n",
    "### Especificos \n",
    ">- Saber usar el comando linprog a la perfección.\n",
    ">- Plantear de forma correcta las funciones y restricciones.\n",
    ">- Comprender el problema.\n",
    ">- Llegar a la mejor función para maximizar o minimizar."
   ]
  },
  {
   "cell_type": "markdown",
   "metadata": {},
   "source": [
    "## Problema del proyecto "
   ]
  },
  {
   "cell_type": "markdown",
   "metadata": {},
   "source": [
    "Un agricultor tiene 500 hectáreas de terreno para cultivar próximamente y desea planificar tal cultivo. Sabe que necesitará disponer de 200 toneladas de trigo y 240 toneladas de maíz para alimentar a su ganado, lo que puede obtener mediante su propia cosecha o mediante compra en el mercado. Lo que produzca, y que no dedique a su ganado, lo puede vender. Los precios de venta son de 170 euros y 150 euros por cada tonelada de trigo y de maíz, respectivamente. Los precios de compra son un 40% superior debido a las ganancias de intermediarios y a los costos de transporte.  Otro cultivo posible es el de caña de azúcar, que se vende a 36 euros cada tonelada producida. Sin embargo, normas de la Comisión Europea imponen una cuota máxima para la producción de azúcar, lo que conlleva que cada tonelada de caña de azúcar producida sobre tal cuota tendrá un precio de venta de 10 euros. Para el próximo cultivo se espera que tal cuota sea 6000 toneladas.  Basado en experiencias anteriores, el agricultor conoce que la producción media es 2,5, 3 y 20 toneladas por hectárea de trigo, maíz y caña de azúcar, respectivamente. El costo de plantar una hectárea de trigo, maíz y caña de azúcar es de 150, 230 y 260, respectivamente.  Plantear un modelo matemático cuya solución pueda ayudar al agricultor en su deseo de maximizar sus beneficios.  \n",
    " "
   ]
  },
  {
   "cell_type": "markdown",
   "metadata": {},
   "source": [
    "## Variables\n",
    "\n",
    ">- $x_1$ = hectáreas que dedicará a trigo.\n",
    ">- $x_2$ = hectáreas que dedicará a maíz.\n",
    ">- $x_3$ = hectáreas que dedicará a azúcar.\n",
    ">- $y_1$ = toneladas que comprará de trigo.\n",
    ">- $y_2$ = toneladas que comprará de maíz.\n",
    ">- $w_1$ = toneladas que venderá de trigo.\n",
    ">- $w_2$ = toneladas que venderá de maíz.\n",
    ">- $w_3$ = toneladas que venderá de azúcar a 36 euros.\n",
    ">- $w_4$ = toneladas que venderá de azúcar a 10 euros."
   ]
  },
  {
   "cell_type": "markdown",
   "metadata": {},
   "source": [
    "## Función Objetivo\n",
    "\n",
    "max - 150$x_1$ - 230$x_2$ - 260$x_3$ - 238$y_1$ - 210$y_2$ + 170$w_1$ + 150$w_2$ + 36$w_3$ + 10$w_4$\n",
    ">- 150 por la cantidad de hectáreas que dedicará a trigo ya que en la redacción del problema dice que el costo para plantar una hectárea de trigo es de 150.\n",
    ">- 230 por la cantidad de hectáreas que dedicará a maíz ya que en la redacción del problema dice que el costo para plantar una hectárea de maíz es de 230.\n",
    ">- 260 por la cantidad de hectáreas que dedicará a azúcar ya que en la redacción del problema dice que el costo para plantar una hectárea de azúcar es de 260.\n",
    ">- 238 por las toneladas que comprará de trigo ya que en el problema viene redactado que el precio de compraa es un 40% más caro que el de venta debido a las ganancias de intermediarios y a los costos de transporte.\n",
    ">- 210 por las toneladas que comprará de maíz ya que en el problema viene redactado que el precio de compraa es un 40% más caro que el de venta debido a las ganancias de intermediarios y a los costos de transporte.\n",
    ">- 170 por las toneladas que venderá de trigo ya que en el problema dice que es el precio de venta.\n",
    ">- 150 por las toneladas que venderá de maíz ya que en el problema dice que es el precio de venta.\n",
    ">-."
   ]
  },
  {
   "cell_type": "markdown",
   "metadata": {},
   "source": [
    "## Restricciones"
   ]
  },
  {
   "cell_type": "markdown",
   "metadata": {},
   "source": [
    ">- $x_1$ + $x_2$ + $x_3$ <= 500\n",
    ">- 2,5$x_1$ + $y_1$ - $w_1$ >= 200\n",
    ">- 3$x_2$ + $y_2$ - $w_2$ <= 240\n",
    ">- $w_3$ + $w_4$ <= 20$x_3$\n",
    ">- $w_3$ <= 6000\n",
    ">- $x_1$ , $x_2$ , $x_3$ , $y_1$ , $y_2$ , $w_1$ , $w_2$ , $w_3$ , $w_4$ >= 0 "
   ]
  },
  {
   "cell_type": "code",
   "execution_count": null,
   "metadata": {},
   "outputs": [],
   "source": []
  }
 ],
 "metadata": {
  "kernelspec": {
   "display_name": "Python 3",
   "language": "python",
   "name": "python3"
  },
  "language_info": {
   "codemirror_mode": {
    "name": "ipython",
    "version": 3
   },
   "file_extension": ".py",
   "mimetype": "text/x-python",
   "name": "python",
   "nbconvert_exporter": "python",
   "pygments_lexer": "ipython3",
   "version": "3.7.4"
  }
 },
 "nbformat": 4,
 "nbformat_minor": 2
}
